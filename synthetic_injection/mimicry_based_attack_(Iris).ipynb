{
  "nbformat": 4,
  "nbformat_minor": 0,
  "metadata": {
    "colab": {
      "provenance": [],
      "collapsed_sections": [
        "QP_P-JByI0RE",
        "UXTjgPUMPI21",
        "oEf_evLkP0pP"
      ],
      "toc_visible": true
    },
    "kernelspec": {
      "name": "python3",
      "display_name": "Python 3"
    },
    "language_info": {
      "name": "python"
    }
  },
  "cells": [
    {
      "cell_type": "markdown",
      "source": [
        "# Mimicry-based Data Poisoning attack: A behaviour borrowed from nature"
      ],
      "metadata": {
        "id": "QI3qrn-hOUJ3"
      }
    },
    {
      "cell_type": "markdown",
      "source": [
        "![](https://www.researchgate.net/publication/256655356/figure/fig1/AS:297949352480768@1448048069138/Cuckoos-versus-reed-warblers-at-the-egg-laying-stage-Common-cuckoos-Cuculus-canorus.png)"
      ],
      "metadata": {
        "id": "9XHwhv11Uknf"
      }
    },
    {
      "cell_type": "markdown",
      "source": [
        "A cuckoo selects another bird's nest to lay its eggs which mimic the characteristics of the eggs of the host as much as possible. The cuckoo's egg is an outlier yet by blending in the host environment it avoids detection and fatal outcome of rejection by the host.\n",
        "\n",
        "Similarly, considering outliers in a dataset, a data poisoning attack can ensure that these abnormal data points blend in the context by mimicking properties similar to the normal data, resulting in the misleading of the outlier detection mechanism. This is analogous to a creature to appear harmless or that is trying to avoid a predator (detection and purging mechanism).\n",
        "\n",
        "### Attack details\n",
        "\n",
        "**Baseline Clustering scenario:**\n",
        "In a general ML pipeline, DBSCAN is employed to detect outliers which get purged automatically. The cleaned data then used for subsequent tasks.\n",
        "\n",
        "**Data Poisoning attack:** Outliers are identified and the area around them is populated in order to mimic the charactersitics of the rest of the data. A simple approach can be to populate these areas to become dense.\n",
        "\n",
        "**Expected outcomes:**\n",
        "\n",
        "*   these areas no longer sparse, abnormal, ill-defined, anomalous, abnormal compared to the rest of the data\n",
        "*   outliers become immune to purging\n",
        "\n",
        "**Potential effects:** Outliers are overlooked, they blend in. They will not only affect the subsequent models by the presence of extreme values but now these regions being dense then before posess an increased influential power on the applied model.\n",
        "\n",
        "This can result in:\n",
        "\n",
        "*   misled outlier/anomaly detection methods: *methods that measure deviations from the normal behaviour will overlook this significant amount of data which mimics normal* behavior\n",
        "*   false conclusions based on non-existing groupings: *outlier regions are treated as significant evidence*\n",
        "*   confused normal behavior: *centroids of a clustering method gets shifted*\n",
        "\n",
        "**Expected evaluation of poisoning:** Compare *silhouette scores* and *within-cluster standard deviations* across pipelines of:\n",
        "\n",
        "*   normal without outlier removal\n",
        "*   normal with outliers purged\n",
        "*   poisoned\n",
        "\n",
        ", while the number of clusters remain unchanged."
      ],
      "metadata": {
        "id": "5dnisFv1C6zX"
      }
    },
    {
      "cell_type": "markdown",
      "source": [
        "## Setup"
      ],
      "metadata": {
        "id": "g1DZu4VvZPXs"
      }
    },
    {
      "cell_type": "code",
      "source": [
        "!pip install kneed --quiet"
      ],
      "metadata": {
        "id": "MzGCVvSP5FOp"
      },
      "execution_count": 1,
      "outputs": []
    },
    {
      "cell_type": "code",
      "execution_count": 2,
      "metadata": {
        "id": "XPi_URSWOVCF"
      },
      "outputs": [],
      "source": [
        "import matplotlib.pyplot as plt\n",
        "import numpy as np\n",
        "import pandas as pd\n",
        "\n",
        "from kneed import KneeLocator\n",
        "from sklearn import datasets\n",
        "from sklearn.cluster import DBSCAN\n",
        "from sklearn.cluster import KMeans\n",
        "from sklearn.preprocessing import StandardScaler, MinMaxScaler\n",
        "from sklearn.neighbors import NearestNeighbors\n",
        "from sklearn.metrics import silhouette_score\n",
        "from sklearn.decomposition import PCA"
      ]
    },
    {
      "cell_type": "code",
      "source": [
        "RAND = 10"
      ],
      "metadata": {
        "id": "-F0pHt8IxGZT"
      },
      "execution_count": 3,
      "outputs": []
    },
    {
      "cell_type": "markdown",
      "source": [
        "## Data"
      ],
      "metadata": {
        "id": "QP_P-JByI0RE"
      }
    },
    {
      "cell_type": "markdown",
      "source": [
        "### Dataset"
      ],
      "metadata": {
        "id": "UXTjgPUMPI21"
      }
    },
    {
      "cell_type": "code",
      "source": [
        "data = datasets.load_iris()\n",
        "\n",
        "columns = ['sepal_length', 'sepal_width', 'petal_length', 'petal_width']\n",
        "labels = data.target_names.tolist()"
      ],
      "metadata": {
        "id": "yqp5M9PpX55A"
      },
      "execution_count": 4,
      "outputs": []
    },
    {
      "cell_type": "code",
      "source": [
        "iris, iris_target = pd.DataFrame(data.data, columns=columns), data.target"
      ],
      "metadata": {
        "id": "vDq8vnPVOzov"
      },
      "execution_count": 5,
      "outputs": []
    },
    {
      "cell_type": "markdown",
      "source": [
        "### Exploratory Data Analysis"
      ],
      "metadata": {
        "id": "oEf_evLkP0pP"
      }
    },
    {
      "cell_type": "code",
      "source": [
        "(iris.shape, iris_target.shape)"
      ],
      "metadata": {
        "colab": {
          "base_uri": "https://localhost:8080/"
        },
        "id": "E_1E18SQP6VT",
        "outputId": "1e1c4820-b8e7-43b6-8e7b-25663bf04e54"
      },
      "execution_count": 6,
      "outputs": [
        {
          "output_type": "execute_result",
          "data": {
            "text/plain": [
              "((150, 4), (150,))"
            ]
          },
          "metadata": {},
          "execution_count": 6
        }
      ]
    },
    {
      "cell_type": "code",
      "source": [
        "iris.columns.tolist()"
      ],
      "metadata": {
        "colab": {
          "base_uri": "https://localhost:8080/"
        },
        "id": "f1ishml9QHKV",
        "outputId": "e525e42d-7b37-4f31-98d1-64dee580259e"
      },
      "execution_count": 7,
      "outputs": [
        {
          "output_type": "execute_result",
          "data": {
            "text/plain": [
              "['sepal_length', 'sepal_width', 'petal_length', 'petal_width']"
            ]
          },
          "metadata": {},
          "execution_count": 7
        }
      ]
    },
    {
      "cell_type": "code",
      "source": [
        "iris.describe()"
      ],
      "metadata": {
        "colab": {
          "base_uri": "https://localhost:8080/",
          "height": 300
        },
        "id": "ef0R35o5Q1xu",
        "outputId": "9c991160-8266-42a0-9bdd-2c518d7a36c2"
      },
      "execution_count": 8,
      "outputs": [
        {
          "output_type": "execute_result",
          "data": {
            "text/plain": [
              "       sepal_length  sepal_width  petal_length  petal_width\n",
              "count    150.000000   150.000000    150.000000   150.000000\n",
              "mean       5.843333     3.057333      3.758000     1.199333\n",
              "std        0.828066     0.435866      1.765298     0.762238\n",
              "min        4.300000     2.000000      1.000000     0.100000\n",
              "25%        5.100000     2.800000      1.600000     0.300000\n",
              "50%        5.800000     3.000000      4.350000     1.300000\n",
              "75%        6.400000     3.300000      5.100000     1.800000\n",
              "max        7.900000     4.400000      6.900000     2.500000"
            ],
            "text/html": [
              "\n",
              "  <div id=\"df-77b3b66b-303d-41e2-a074-ec3567bc395c\" class=\"colab-df-container\">\n",
              "    <div>\n",
              "<style scoped>\n",
              "    .dataframe tbody tr th:only-of-type {\n",
              "        vertical-align: middle;\n",
              "    }\n",
              "\n",
              "    .dataframe tbody tr th {\n",
              "        vertical-align: top;\n",
              "    }\n",
              "\n",
              "    .dataframe thead th {\n",
              "        text-align: right;\n",
              "    }\n",
              "</style>\n",
              "<table border=\"1\" class=\"dataframe\">\n",
              "  <thead>\n",
              "    <tr style=\"text-align: right;\">\n",
              "      <th></th>\n",
              "      <th>sepal_length</th>\n",
              "      <th>sepal_width</th>\n",
              "      <th>petal_length</th>\n",
              "      <th>petal_width</th>\n",
              "    </tr>\n",
              "  </thead>\n",
              "  <tbody>\n",
              "    <tr>\n",
              "      <th>count</th>\n",
              "      <td>150.000000</td>\n",
              "      <td>150.000000</td>\n",
              "      <td>150.000000</td>\n",
              "      <td>150.000000</td>\n",
              "    </tr>\n",
              "    <tr>\n",
              "      <th>mean</th>\n",
              "      <td>5.843333</td>\n",
              "      <td>3.057333</td>\n",
              "      <td>3.758000</td>\n",
              "      <td>1.199333</td>\n",
              "    </tr>\n",
              "    <tr>\n",
              "      <th>std</th>\n",
              "      <td>0.828066</td>\n",
              "      <td>0.435866</td>\n",
              "      <td>1.765298</td>\n",
              "      <td>0.762238</td>\n",
              "    </tr>\n",
              "    <tr>\n",
              "      <th>min</th>\n",
              "      <td>4.300000</td>\n",
              "      <td>2.000000</td>\n",
              "      <td>1.000000</td>\n",
              "      <td>0.100000</td>\n",
              "    </tr>\n",
              "    <tr>\n",
              "      <th>25%</th>\n",
              "      <td>5.100000</td>\n",
              "      <td>2.800000</td>\n",
              "      <td>1.600000</td>\n",
              "      <td>0.300000</td>\n",
              "    </tr>\n",
              "    <tr>\n",
              "      <th>50%</th>\n",
              "      <td>5.800000</td>\n",
              "      <td>3.000000</td>\n",
              "      <td>4.350000</td>\n",
              "      <td>1.300000</td>\n",
              "    </tr>\n",
              "    <tr>\n",
              "      <th>75%</th>\n",
              "      <td>6.400000</td>\n",
              "      <td>3.300000</td>\n",
              "      <td>5.100000</td>\n",
              "      <td>1.800000</td>\n",
              "    </tr>\n",
              "    <tr>\n",
              "      <th>max</th>\n",
              "      <td>7.900000</td>\n",
              "      <td>4.400000</td>\n",
              "      <td>6.900000</td>\n",
              "      <td>2.500000</td>\n",
              "    </tr>\n",
              "  </tbody>\n",
              "</table>\n",
              "</div>\n",
              "    <div class=\"colab-df-buttons\">\n",
              "\n",
              "  <div class=\"colab-df-container\">\n",
              "    <button class=\"colab-df-convert\" onclick=\"convertToInteractive('df-77b3b66b-303d-41e2-a074-ec3567bc395c')\"\n",
              "            title=\"Convert this dataframe to an interactive table.\"\n",
              "            style=\"display:none;\">\n",
              "\n",
              "  <svg xmlns=\"http://www.w3.org/2000/svg\" height=\"24px\" viewBox=\"0 -960 960 960\">\n",
              "    <path d=\"M120-120v-720h720v720H120Zm60-500h600v-160H180v160Zm220 220h160v-160H400v160Zm0 220h160v-160H400v160ZM180-400h160v-160H180v160Zm440 0h160v-160H620v160ZM180-180h160v-160H180v160Zm440 0h160v-160H620v160Z\"/>\n",
              "  </svg>\n",
              "    </button>\n",
              "\n",
              "  <style>\n",
              "    .colab-df-container {\n",
              "      display:flex;\n",
              "      gap: 12px;\n",
              "    }\n",
              "\n",
              "    .colab-df-convert {\n",
              "      background-color: #E8F0FE;\n",
              "      border: none;\n",
              "      border-radius: 50%;\n",
              "      cursor: pointer;\n",
              "      display: none;\n",
              "      fill: #1967D2;\n",
              "      height: 32px;\n",
              "      padding: 0 0 0 0;\n",
              "      width: 32px;\n",
              "    }\n",
              "\n",
              "    .colab-df-convert:hover {\n",
              "      background-color: #E2EBFA;\n",
              "      box-shadow: 0px 1px 2px rgba(60, 64, 67, 0.3), 0px 1px 3px 1px rgba(60, 64, 67, 0.15);\n",
              "      fill: #174EA6;\n",
              "    }\n",
              "\n",
              "    .colab-df-buttons div {\n",
              "      margin-bottom: 4px;\n",
              "    }\n",
              "\n",
              "    [theme=dark] .colab-df-convert {\n",
              "      background-color: #3B4455;\n",
              "      fill: #D2E3FC;\n",
              "    }\n",
              "\n",
              "    [theme=dark] .colab-df-convert:hover {\n",
              "      background-color: #434B5C;\n",
              "      box-shadow: 0px 1px 3px 1px rgba(0, 0, 0, 0.15);\n",
              "      filter: drop-shadow(0px 1px 2px rgba(0, 0, 0, 0.3));\n",
              "      fill: #FFFFFF;\n",
              "    }\n",
              "  </style>\n",
              "\n",
              "    <script>\n",
              "      const buttonEl =\n",
              "        document.querySelector('#df-77b3b66b-303d-41e2-a074-ec3567bc395c button.colab-df-convert');\n",
              "      buttonEl.style.display =\n",
              "        google.colab.kernel.accessAllowed ? 'block' : 'none';\n",
              "\n",
              "      async function convertToInteractive(key) {\n",
              "        const element = document.querySelector('#df-77b3b66b-303d-41e2-a074-ec3567bc395c');\n",
              "        const dataTable =\n",
              "          await google.colab.kernel.invokeFunction('convertToInteractive',\n",
              "                                                    [key], {});\n",
              "        if (!dataTable) return;\n",
              "\n",
              "        const docLinkHtml = 'Like what you see? Visit the ' +\n",
              "          '<a target=\"_blank\" href=https://colab.research.google.com/notebooks/data_table.ipynb>data table notebook</a>'\n",
              "          + ' to learn more about interactive tables.';\n",
              "        element.innerHTML = '';\n",
              "        dataTable['output_type'] = 'display_data';\n",
              "        await google.colab.output.renderOutput(dataTable, element);\n",
              "        const docLink = document.createElement('div');\n",
              "        docLink.innerHTML = docLinkHtml;\n",
              "        element.appendChild(docLink);\n",
              "      }\n",
              "    </script>\n",
              "  </div>\n",
              "\n",
              "\n",
              "    <div id=\"df-27f86f13-6b3f-4761-bbf2-50c3ccc40021\">\n",
              "      <button class=\"colab-df-quickchart\" onclick=\"quickchart('df-27f86f13-6b3f-4761-bbf2-50c3ccc40021')\"\n",
              "                title=\"Suggest charts\"\n",
              "                style=\"display:none;\">\n",
              "\n",
              "<svg xmlns=\"http://www.w3.org/2000/svg\" height=\"24px\"viewBox=\"0 0 24 24\"\n",
              "     width=\"24px\">\n",
              "    <g>\n",
              "        <path d=\"M19 3H5c-1.1 0-2 .9-2 2v14c0 1.1.9 2 2 2h14c1.1 0 2-.9 2-2V5c0-1.1-.9-2-2-2zM9 17H7v-7h2v7zm4 0h-2V7h2v10zm4 0h-2v-4h2v4z\"/>\n",
              "    </g>\n",
              "</svg>\n",
              "      </button>\n",
              "\n",
              "<style>\n",
              "  .colab-df-quickchart {\n",
              "      --bg-color: #E8F0FE;\n",
              "      --fill-color: #1967D2;\n",
              "      --hover-bg-color: #E2EBFA;\n",
              "      --hover-fill-color: #174EA6;\n",
              "      --disabled-fill-color: #AAA;\n",
              "      --disabled-bg-color: #DDD;\n",
              "  }\n",
              "\n",
              "  [theme=dark] .colab-df-quickchart {\n",
              "      --bg-color: #3B4455;\n",
              "      --fill-color: #D2E3FC;\n",
              "      --hover-bg-color: #434B5C;\n",
              "      --hover-fill-color: #FFFFFF;\n",
              "      --disabled-bg-color: #3B4455;\n",
              "      --disabled-fill-color: #666;\n",
              "  }\n",
              "\n",
              "  .colab-df-quickchart {\n",
              "    background-color: var(--bg-color);\n",
              "    border: none;\n",
              "    border-radius: 50%;\n",
              "    cursor: pointer;\n",
              "    display: none;\n",
              "    fill: var(--fill-color);\n",
              "    height: 32px;\n",
              "    padding: 0;\n",
              "    width: 32px;\n",
              "  }\n",
              "\n",
              "  .colab-df-quickchart:hover {\n",
              "    background-color: var(--hover-bg-color);\n",
              "    box-shadow: 0 1px 2px rgba(60, 64, 67, 0.3), 0 1px 3px 1px rgba(60, 64, 67, 0.15);\n",
              "    fill: var(--button-hover-fill-color);\n",
              "  }\n",
              "\n",
              "  .colab-df-quickchart-complete:disabled,\n",
              "  .colab-df-quickchart-complete:disabled:hover {\n",
              "    background-color: var(--disabled-bg-color);\n",
              "    fill: var(--disabled-fill-color);\n",
              "    box-shadow: none;\n",
              "  }\n",
              "\n",
              "  .colab-df-spinner {\n",
              "    border: 2px solid var(--fill-color);\n",
              "    border-color: transparent;\n",
              "    border-bottom-color: var(--fill-color);\n",
              "    animation:\n",
              "      spin 1s steps(1) infinite;\n",
              "  }\n",
              "\n",
              "  @keyframes spin {\n",
              "    0% {\n",
              "      border-color: transparent;\n",
              "      border-bottom-color: var(--fill-color);\n",
              "      border-left-color: var(--fill-color);\n",
              "    }\n",
              "    20% {\n",
              "      border-color: transparent;\n",
              "      border-left-color: var(--fill-color);\n",
              "      border-top-color: var(--fill-color);\n",
              "    }\n",
              "    30% {\n",
              "      border-color: transparent;\n",
              "      border-left-color: var(--fill-color);\n",
              "      border-top-color: var(--fill-color);\n",
              "      border-right-color: var(--fill-color);\n",
              "    }\n",
              "    40% {\n",
              "      border-color: transparent;\n",
              "      border-right-color: var(--fill-color);\n",
              "      border-top-color: var(--fill-color);\n",
              "    }\n",
              "    60% {\n",
              "      border-color: transparent;\n",
              "      border-right-color: var(--fill-color);\n",
              "    }\n",
              "    80% {\n",
              "      border-color: transparent;\n",
              "      border-right-color: var(--fill-color);\n",
              "      border-bottom-color: var(--fill-color);\n",
              "    }\n",
              "    90% {\n",
              "      border-color: transparent;\n",
              "      border-bottom-color: var(--fill-color);\n",
              "    }\n",
              "  }\n",
              "</style>\n",
              "\n",
              "      <script>\n",
              "        async function quickchart(key) {\n",
              "          const quickchartButtonEl =\n",
              "            document.querySelector('#' + key + ' button');\n",
              "          quickchartButtonEl.disabled = true;  // To prevent multiple clicks.\n",
              "          quickchartButtonEl.classList.add('colab-df-spinner');\n",
              "          try {\n",
              "            const charts = await google.colab.kernel.invokeFunction(\n",
              "                'suggestCharts', [key], {});\n",
              "          } catch (error) {\n",
              "            console.error('Error during call to suggestCharts:', error);\n",
              "          }\n",
              "          quickchartButtonEl.classList.remove('colab-df-spinner');\n",
              "          quickchartButtonEl.classList.add('colab-df-quickchart-complete');\n",
              "        }\n",
              "        (() => {\n",
              "          let quickchartButtonEl =\n",
              "            document.querySelector('#df-27f86f13-6b3f-4761-bbf2-50c3ccc40021 button');\n",
              "          quickchartButtonEl.style.display =\n",
              "            google.colab.kernel.accessAllowed ? 'block' : 'none';\n",
              "        })();\n",
              "      </script>\n",
              "    </div>\n",
              "\n",
              "    </div>\n",
              "  </div>\n"
            ],
            "application/vnd.google.colaboratory.intrinsic+json": {
              "type": "dataframe",
              "summary": "{\n  \"name\": \"iris\",\n  \"rows\": 8,\n  \"fields\": [\n    {\n      \"column\": \"sepal_length\",\n      \"properties\": {\n        \"dtype\": \"number\",\n        \"std\": 51.24711349471842,\n        \"min\": 0.8280661279778629,\n        \"max\": 150.0,\n        \"num_unique_values\": 8,\n        \"samples\": [\n          5.843333333333334,\n          5.8,\n          150.0\n        ],\n        \"semantic_type\": \"\",\n        \"description\": \"\"\n      }\n    },\n    {\n      \"column\": \"sepal_width\",\n      \"properties\": {\n        \"dtype\": \"number\",\n        \"std\": 52.08617800869866,\n        \"min\": 0.435866284936698,\n        \"max\": 150.0,\n        \"num_unique_values\": 8,\n        \"samples\": [\n          3.0573333333333337,\n          3.0,\n          150.0\n        ],\n        \"semantic_type\": \"\",\n        \"description\": \"\"\n      }\n    },\n    {\n      \"column\": \"petal_length\",\n      \"properties\": {\n        \"dtype\": \"number\",\n        \"std\": 51.83521261418364,\n        \"min\": 1.0,\n        \"max\": 150.0,\n        \"num_unique_values\": 8,\n        \"samples\": [\n          3.7580000000000005,\n          4.35,\n          150.0\n        ],\n        \"semantic_type\": \"\",\n        \"description\": \"\"\n      }\n    },\n    {\n      \"column\": \"petal_width\",\n      \"properties\": {\n        \"dtype\": \"number\",\n        \"std\": 52.636648242617504,\n        \"min\": 0.1,\n        \"max\": 150.0,\n        \"num_unique_values\": 8,\n        \"samples\": [\n          1.1993333333333336,\n          1.3,\n          150.0\n        ],\n        \"semantic_type\": \"\",\n        \"description\": \"\"\n      }\n    }\n  ]\n}"
            }
          },
          "metadata": {},
          "execution_count": 8
        }
      ]
    },
    {
      "cell_type": "code",
      "source": [
        "iris_target"
      ],
      "metadata": {
        "colab": {
          "base_uri": "https://localhost:8080/"
        },
        "id": "eBftYzgTa2Ot",
        "outputId": "86aae930-b663-4c1f-a350-ce0ad664e75e"
      },
      "execution_count": 9,
      "outputs": [
        {
          "output_type": "execute_result",
          "data": {
            "text/plain": [
              "array([0, 0, 0, 0, 0, 0, 0, 0, 0, 0, 0, 0, 0, 0, 0, 0, 0, 0, 0, 0, 0, 0,\n",
              "       0, 0, 0, 0, 0, 0, 0, 0, 0, 0, 0, 0, 0, 0, 0, 0, 0, 0, 0, 0, 0, 0,\n",
              "       0, 0, 0, 0, 0, 0, 1, 1, 1, 1, 1, 1, 1, 1, 1, 1, 1, 1, 1, 1, 1, 1,\n",
              "       1, 1, 1, 1, 1, 1, 1, 1, 1, 1, 1, 1, 1, 1, 1, 1, 1, 1, 1, 1, 1, 1,\n",
              "       1, 1, 1, 1, 1, 1, 1, 1, 1, 1, 1, 1, 2, 2, 2, 2, 2, 2, 2, 2, 2, 2,\n",
              "       2, 2, 2, 2, 2, 2, 2, 2, 2, 2, 2, 2, 2, 2, 2, 2, 2, 2, 2, 2, 2, 2,\n",
              "       2, 2, 2, 2, 2, 2, 2, 2, 2, 2, 2, 2, 2, 2, 2, 2, 2, 2])"
            ]
          },
          "metadata": {},
          "execution_count": 9
        }
      ]
    },
    {
      "cell_type": "markdown",
      "source": [
        "### Preprocessing"
      ],
      "metadata": {
        "id": "IqyKHrFwxYgX"
      }
    },
    {
      "cell_type": "code",
      "source": [
        "scaler = MinMaxScaler()"
      ],
      "metadata": {
        "id": "I2hiO0f5LwQg"
      },
      "execution_count": 10,
      "outputs": []
    },
    {
      "cell_type": "code",
      "source": [
        "X = scaler.fit_transform(iris.copy())\n",
        "y = iris_target.copy()"
      ],
      "metadata": {
        "id": "72kNQ17WxZ6M"
      },
      "execution_count": 11,
      "outputs": []
    },
    {
      "cell_type": "code",
      "source": [
        "pd.DataFrame(X).describe()"
      ],
      "metadata": {
        "colab": {
          "base_uri": "https://localhost:8080/",
          "height": 300
        },
        "id": "RI3hmPg2L9Jv",
        "outputId": "6b88475c-e421-4980-a0c8-4ed5b9b59429"
      },
      "execution_count": 12,
      "outputs": [
        {
          "output_type": "execute_result",
          "data": {
            "text/plain": [
              "                0           1           2           3\n",
              "count  150.000000  150.000000  150.000000  150.000000\n",
              "mean     0.428704    0.440556    0.467458    0.458056\n",
              "std      0.230018    0.181611    0.299203    0.317599\n",
              "min      0.000000    0.000000    0.000000    0.000000\n",
              "25%      0.222222    0.333333    0.101695    0.083333\n",
              "50%      0.416667    0.416667    0.567797    0.500000\n",
              "75%      0.583333    0.541667    0.694915    0.708333\n",
              "max      1.000000    1.000000    1.000000    1.000000"
            ],
            "text/html": [
              "\n",
              "  <div id=\"df-a5276d15-e54d-43ee-b3f4-d06dce5e167a\" class=\"colab-df-container\">\n",
              "    <div>\n",
              "<style scoped>\n",
              "    .dataframe tbody tr th:only-of-type {\n",
              "        vertical-align: middle;\n",
              "    }\n",
              "\n",
              "    .dataframe tbody tr th {\n",
              "        vertical-align: top;\n",
              "    }\n",
              "\n",
              "    .dataframe thead th {\n",
              "        text-align: right;\n",
              "    }\n",
              "</style>\n",
              "<table border=\"1\" class=\"dataframe\">\n",
              "  <thead>\n",
              "    <tr style=\"text-align: right;\">\n",
              "      <th></th>\n",
              "      <th>0</th>\n",
              "      <th>1</th>\n",
              "      <th>2</th>\n",
              "      <th>3</th>\n",
              "    </tr>\n",
              "  </thead>\n",
              "  <tbody>\n",
              "    <tr>\n",
              "      <th>count</th>\n",
              "      <td>150.000000</td>\n",
              "      <td>150.000000</td>\n",
              "      <td>150.000000</td>\n",
              "      <td>150.000000</td>\n",
              "    </tr>\n",
              "    <tr>\n",
              "      <th>mean</th>\n",
              "      <td>0.428704</td>\n",
              "      <td>0.440556</td>\n",
              "      <td>0.467458</td>\n",
              "      <td>0.458056</td>\n",
              "    </tr>\n",
              "    <tr>\n",
              "      <th>std</th>\n",
              "      <td>0.230018</td>\n",
              "      <td>0.181611</td>\n",
              "      <td>0.299203</td>\n",
              "      <td>0.317599</td>\n",
              "    </tr>\n",
              "    <tr>\n",
              "      <th>min</th>\n",
              "      <td>0.000000</td>\n",
              "      <td>0.000000</td>\n",
              "      <td>0.000000</td>\n",
              "      <td>0.000000</td>\n",
              "    </tr>\n",
              "    <tr>\n",
              "      <th>25%</th>\n",
              "      <td>0.222222</td>\n",
              "      <td>0.333333</td>\n",
              "      <td>0.101695</td>\n",
              "      <td>0.083333</td>\n",
              "    </tr>\n",
              "    <tr>\n",
              "      <th>50%</th>\n",
              "      <td>0.416667</td>\n",
              "      <td>0.416667</td>\n",
              "      <td>0.567797</td>\n",
              "      <td>0.500000</td>\n",
              "    </tr>\n",
              "    <tr>\n",
              "      <th>75%</th>\n",
              "      <td>0.583333</td>\n",
              "      <td>0.541667</td>\n",
              "      <td>0.694915</td>\n",
              "      <td>0.708333</td>\n",
              "    </tr>\n",
              "    <tr>\n",
              "      <th>max</th>\n",
              "      <td>1.000000</td>\n",
              "      <td>1.000000</td>\n",
              "      <td>1.000000</td>\n",
              "      <td>1.000000</td>\n",
              "    </tr>\n",
              "  </tbody>\n",
              "</table>\n",
              "</div>\n",
              "    <div class=\"colab-df-buttons\">\n",
              "\n",
              "  <div class=\"colab-df-container\">\n",
              "    <button class=\"colab-df-convert\" onclick=\"convertToInteractive('df-a5276d15-e54d-43ee-b3f4-d06dce5e167a')\"\n",
              "            title=\"Convert this dataframe to an interactive table.\"\n",
              "            style=\"display:none;\">\n",
              "\n",
              "  <svg xmlns=\"http://www.w3.org/2000/svg\" height=\"24px\" viewBox=\"0 -960 960 960\">\n",
              "    <path d=\"M120-120v-720h720v720H120Zm60-500h600v-160H180v160Zm220 220h160v-160H400v160Zm0 220h160v-160H400v160ZM180-400h160v-160H180v160Zm440 0h160v-160H620v160ZM180-180h160v-160H180v160Zm440 0h160v-160H620v160Z\"/>\n",
              "  </svg>\n",
              "    </button>\n",
              "\n",
              "  <style>\n",
              "    .colab-df-container {\n",
              "      display:flex;\n",
              "      gap: 12px;\n",
              "    }\n",
              "\n",
              "    .colab-df-convert {\n",
              "      background-color: #E8F0FE;\n",
              "      border: none;\n",
              "      border-radius: 50%;\n",
              "      cursor: pointer;\n",
              "      display: none;\n",
              "      fill: #1967D2;\n",
              "      height: 32px;\n",
              "      padding: 0 0 0 0;\n",
              "      width: 32px;\n",
              "    }\n",
              "\n",
              "    .colab-df-convert:hover {\n",
              "      background-color: #E2EBFA;\n",
              "      box-shadow: 0px 1px 2px rgba(60, 64, 67, 0.3), 0px 1px 3px 1px rgba(60, 64, 67, 0.15);\n",
              "      fill: #174EA6;\n",
              "    }\n",
              "\n",
              "    .colab-df-buttons div {\n",
              "      margin-bottom: 4px;\n",
              "    }\n",
              "\n",
              "    [theme=dark] .colab-df-convert {\n",
              "      background-color: #3B4455;\n",
              "      fill: #D2E3FC;\n",
              "    }\n",
              "\n",
              "    [theme=dark] .colab-df-convert:hover {\n",
              "      background-color: #434B5C;\n",
              "      box-shadow: 0px 1px 3px 1px rgba(0, 0, 0, 0.15);\n",
              "      filter: drop-shadow(0px 1px 2px rgba(0, 0, 0, 0.3));\n",
              "      fill: #FFFFFF;\n",
              "    }\n",
              "  </style>\n",
              "\n",
              "    <script>\n",
              "      const buttonEl =\n",
              "        document.querySelector('#df-a5276d15-e54d-43ee-b3f4-d06dce5e167a button.colab-df-convert');\n",
              "      buttonEl.style.display =\n",
              "        google.colab.kernel.accessAllowed ? 'block' : 'none';\n",
              "\n",
              "      async function convertToInteractive(key) {\n",
              "        const element = document.querySelector('#df-a5276d15-e54d-43ee-b3f4-d06dce5e167a');\n",
              "        const dataTable =\n",
              "          await google.colab.kernel.invokeFunction('convertToInteractive',\n",
              "                                                    [key], {});\n",
              "        if (!dataTable) return;\n",
              "\n",
              "        const docLinkHtml = 'Like what you see? Visit the ' +\n",
              "          '<a target=\"_blank\" href=https://colab.research.google.com/notebooks/data_table.ipynb>data table notebook</a>'\n",
              "          + ' to learn more about interactive tables.';\n",
              "        element.innerHTML = '';\n",
              "        dataTable['output_type'] = 'display_data';\n",
              "        await google.colab.output.renderOutput(dataTable, element);\n",
              "        const docLink = document.createElement('div');\n",
              "        docLink.innerHTML = docLinkHtml;\n",
              "        element.appendChild(docLink);\n",
              "      }\n",
              "    </script>\n",
              "  </div>\n",
              "\n",
              "\n",
              "    <div id=\"df-df1df5c2-a744-4467-a0aa-7f3ecc4c8965\">\n",
              "      <button class=\"colab-df-quickchart\" onclick=\"quickchart('df-df1df5c2-a744-4467-a0aa-7f3ecc4c8965')\"\n",
              "                title=\"Suggest charts\"\n",
              "                style=\"display:none;\">\n",
              "\n",
              "<svg xmlns=\"http://www.w3.org/2000/svg\" height=\"24px\"viewBox=\"0 0 24 24\"\n",
              "     width=\"24px\">\n",
              "    <g>\n",
              "        <path d=\"M19 3H5c-1.1 0-2 .9-2 2v14c0 1.1.9 2 2 2h14c1.1 0 2-.9 2-2V5c0-1.1-.9-2-2-2zM9 17H7v-7h2v7zm4 0h-2V7h2v10zm4 0h-2v-4h2v4z\"/>\n",
              "    </g>\n",
              "</svg>\n",
              "      </button>\n",
              "\n",
              "<style>\n",
              "  .colab-df-quickchart {\n",
              "      --bg-color: #E8F0FE;\n",
              "      --fill-color: #1967D2;\n",
              "      --hover-bg-color: #E2EBFA;\n",
              "      --hover-fill-color: #174EA6;\n",
              "      --disabled-fill-color: #AAA;\n",
              "      --disabled-bg-color: #DDD;\n",
              "  }\n",
              "\n",
              "  [theme=dark] .colab-df-quickchart {\n",
              "      --bg-color: #3B4455;\n",
              "      --fill-color: #D2E3FC;\n",
              "      --hover-bg-color: #434B5C;\n",
              "      --hover-fill-color: #FFFFFF;\n",
              "      --disabled-bg-color: #3B4455;\n",
              "      --disabled-fill-color: #666;\n",
              "  }\n",
              "\n",
              "  .colab-df-quickchart {\n",
              "    background-color: var(--bg-color);\n",
              "    border: none;\n",
              "    border-radius: 50%;\n",
              "    cursor: pointer;\n",
              "    display: none;\n",
              "    fill: var(--fill-color);\n",
              "    height: 32px;\n",
              "    padding: 0;\n",
              "    width: 32px;\n",
              "  }\n",
              "\n",
              "  .colab-df-quickchart:hover {\n",
              "    background-color: var(--hover-bg-color);\n",
              "    box-shadow: 0 1px 2px rgba(60, 64, 67, 0.3), 0 1px 3px 1px rgba(60, 64, 67, 0.15);\n",
              "    fill: var(--button-hover-fill-color);\n",
              "  }\n",
              "\n",
              "  .colab-df-quickchart-complete:disabled,\n",
              "  .colab-df-quickchart-complete:disabled:hover {\n",
              "    background-color: var(--disabled-bg-color);\n",
              "    fill: var(--disabled-fill-color);\n",
              "    box-shadow: none;\n",
              "  }\n",
              "\n",
              "  .colab-df-spinner {\n",
              "    border: 2px solid var(--fill-color);\n",
              "    border-color: transparent;\n",
              "    border-bottom-color: var(--fill-color);\n",
              "    animation:\n",
              "      spin 1s steps(1) infinite;\n",
              "  }\n",
              "\n",
              "  @keyframes spin {\n",
              "    0% {\n",
              "      border-color: transparent;\n",
              "      border-bottom-color: var(--fill-color);\n",
              "      border-left-color: var(--fill-color);\n",
              "    }\n",
              "    20% {\n",
              "      border-color: transparent;\n",
              "      border-left-color: var(--fill-color);\n",
              "      border-top-color: var(--fill-color);\n",
              "    }\n",
              "    30% {\n",
              "      border-color: transparent;\n",
              "      border-left-color: var(--fill-color);\n",
              "      border-top-color: var(--fill-color);\n",
              "      border-right-color: var(--fill-color);\n",
              "    }\n",
              "    40% {\n",
              "      border-color: transparent;\n",
              "      border-right-color: var(--fill-color);\n",
              "      border-top-color: var(--fill-color);\n",
              "    }\n",
              "    60% {\n",
              "      border-color: transparent;\n",
              "      border-right-color: var(--fill-color);\n",
              "    }\n",
              "    80% {\n",
              "      border-color: transparent;\n",
              "      border-right-color: var(--fill-color);\n",
              "      border-bottom-color: var(--fill-color);\n",
              "    }\n",
              "    90% {\n",
              "      border-color: transparent;\n",
              "      border-bottom-color: var(--fill-color);\n",
              "    }\n",
              "  }\n",
              "</style>\n",
              "\n",
              "      <script>\n",
              "        async function quickchart(key) {\n",
              "          const quickchartButtonEl =\n",
              "            document.querySelector('#' + key + ' button');\n",
              "          quickchartButtonEl.disabled = true;  // To prevent multiple clicks.\n",
              "          quickchartButtonEl.classList.add('colab-df-spinner');\n",
              "          try {\n",
              "            const charts = await google.colab.kernel.invokeFunction(\n",
              "                'suggestCharts', [key], {});\n",
              "          } catch (error) {\n",
              "            console.error('Error during call to suggestCharts:', error);\n",
              "          }\n",
              "          quickchartButtonEl.classList.remove('colab-df-spinner');\n",
              "          quickchartButtonEl.classList.add('colab-df-quickchart-complete');\n",
              "        }\n",
              "        (() => {\n",
              "          let quickchartButtonEl =\n",
              "            document.querySelector('#df-df1df5c2-a744-4467-a0aa-7f3ecc4c8965 button');\n",
              "          quickchartButtonEl.style.display =\n",
              "            google.colab.kernel.accessAllowed ? 'block' : 'none';\n",
              "        })();\n",
              "      </script>\n",
              "    </div>\n",
              "\n",
              "    </div>\n",
              "  </div>\n"
            ],
            "application/vnd.google.colaboratory.intrinsic+json": {
              "type": "dataframe",
              "summary": "{\n  \"name\": \"pd\",\n  \"rows\": 8,\n  \"fields\": [\n    {\n      \"column\": 0,\n      \"properties\": {\n        \"dtype\": \"number\",\n        \"std\": 52.88832854753154,\n        \"min\": 0.0,\n        \"max\": 150.0,\n        \"num_unique_values\": 8,\n        \"samples\": [\n          0.42870370370370364,\n          0.4166666666666665,\n          150.0\n        ],\n        \"semantic_type\": \"\",\n        \"description\": \"\"\n      }\n    },\n    {\n      \"column\": 1,\n      \"properties\": {\n        \"dtype\": \"number\",\n        \"std\": 52.886637726001155,\n        \"min\": 0.0,\n        \"max\": 150.0,\n        \"num_unique_values\": 8,\n        \"samples\": [\n          0.44055555555555553,\n          0.41666666666666674,\n          150.0\n        ],\n        \"semantic_type\": \"\",\n        \"description\": \"\"\n      }\n    },\n    {\n      \"column\": 2,\n      \"properties\": {\n        \"dtype\": \"number\",\n        \"std\": 52.87584271814324,\n        \"min\": 0.0,\n        \"max\": 150.0,\n        \"num_unique_values\": 8,\n        \"samples\": [\n          0.46745762711864397,\n          0.5677966101694916,\n          150.0\n        ],\n        \"semantic_type\": \"\",\n        \"description\": \"\"\n      }\n    },\n    {\n      \"column\": 3,\n      \"properties\": {\n        \"dtype\": \"number\",\n        \"std\": 52.87906520708046,\n        \"min\": 0.0,\n        \"max\": 150.0,\n        \"num_unique_values\": 8,\n        \"samples\": [\n          0.4580555555555556,\n          0.5000000000000001,\n          150.0\n        ],\n        \"semantic_type\": \"\",\n        \"description\": \"\"\n      }\n    }\n  ]\n}"
            }
          },
          "metadata": {},
          "execution_count": 12
        }
      ]
    },
    {
      "cell_type": "markdown",
      "source": [
        "## Helpers"
      ],
      "metadata": {
        "id": "uytUs1Q7yZLv"
      }
    },
    {
      "cell_type": "code",
      "source": [
        "def find_eps(_data, k, disp=False):\n",
        "    neigh = NearestNeighbors(n_neighbors=k)\n",
        "    neigh.fit(_data)\n",
        "\n",
        "    distances, _ = neigh.kneighbors(_data)\n",
        "    distances = np.sort(distances[:, k-1])\n",
        "\n",
        "    # elbow (knee)\n",
        "    knee = KneeLocator(range(len(distances)), distances, curve='convex', direction='increasing')\n",
        "    eps = distances[knee.knee] if knee.knee is not None else None\n",
        "\n",
        "    if disp == True:\n",
        "        plt.plot(distances)\n",
        "\n",
        "        if knee.knee:\n",
        "            plt.axvline(knee.knee, color='r', linestyle='--', label=f'Eps ≈ {eps:.2f}')\n",
        "            plt.legend()\n",
        "\n",
        "        plt.xlabel('Points')\n",
        "        plt.ylabel(f'{k}-th nearest neighbor distance')\n",
        "        plt.title('K-distance Graph')\n",
        "        plt.grid()\n",
        "        plt.show()\n",
        "\n",
        "    return eps"
      ],
      "metadata": {
        "id": "5ysKbuzZ40j-"
      },
      "execution_count": 13,
      "outputs": []
    },
    {
      "cell_type": "code",
      "source": [
        "def plot_effect_of_pipeline(X1, Y1_centroids, Y1_cluster_labels,\n",
        "                            X2, Y2_centroids, Y2_cluster_labels,\n",
        "                            X3, Y3_centroids, Y3_cluster_labels,\n",
        "                            titles=[\"Clusterings by different pipelines\", \"\", \"\", \"\"]):\n",
        "    pca = PCA(n_components=2)\n",
        "\n",
        "    A = pca.fit_transform(X1.values)\n",
        "    B = pca.transform(X2.values)\n",
        "    C = pca.transform(X3.values)\n",
        "\n",
        "    A_centroids = pca.transform(Y1_centroids)\n",
        "    B_centroids = pca.transform(Y2_centroids)\n",
        "    C_centroids = pca.transform(Y3_centroids)\n",
        "\n",
        "    fig, axes = plt.subplots(1, 3, figsize=(15, 5))\n",
        "\n",
        "    ax = axes[0]\n",
        "    ax.scatter(A[:,0], A[:,1], c=Y1_cluster_labels, cmap='winter', s=30)\n",
        "    ax.scatter(A_centroids[:, 0], A_centroids[:, 1], marker=\"+\", c=\"k\", s=500, linewidths=2, zorder=10)\n",
        "    ax.set(title=titles[1])\n",
        "\n",
        "    ax = axes[1]\n",
        "    ax.scatter(B[:,0], B[:,1], c=Y2_cluster_labels, cmap='winter', s=30)\n",
        "    ax.scatter(B_centroids[:, 0], B_centroids[:, 1], marker=\"+\", c=\"k\", s=500, linewidths=2, zorder=10)\n",
        "    ax.set(title=titles[2])\n",
        "\n",
        "    ax = axes[2]\n",
        "    ax.scatter(C[:,0], C[:,1], c=Y3_cluster_labels, cmap='winter', s=30)\n",
        "    ax.scatter(C_centroids[:, 0], C_centroids[:, 1], marker=\"+\", c=\"k\", s=500, linewidths=2, zorder=10)\n",
        "    ax.set(title=titles[3])\n",
        "\n",
        "    # set limits\n",
        "    xlims = [ax.get_xlim() for ax in axes]\n",
        "    ylims = [ax.get_ylim() for ax in axes]\n",
        "    xlim = (min(l[0] for l in xlims), max(l[1] for l in xlims))\n",
        "    ylim = (min(l[0] for l in ylims), max(l[1] for l in ylims))\n",
        "\n",
        "    for ax in axes.flat:\n",
        "        ax.set(xlabel='PC1', ylabel='PC2',\n",
        "               xlim=xlim, ylim=ylim)\n",
        "\n",
        "    plt.suptitle(titles[0], fontsize=16)\n",
        "    plt.tight_layout(pad=1)\n",
        "    plt.show()"
      ],
      "metadata": {
        "id": "-59ai1l9vZ05"
      },
      "execution_count": 14,
      "outputs": []
    },
    {
      "cell_type": "code",
      "source": [
        "def calc_within_cluster_stds(pipeline):\n",
        "    cluster_stds = []\n",
        "\n",
        "    for label in np.unique(pipeline.clustering_labels):\n",
        "        cluster_points = pipeline.x[pipeline.clustering_labels == label]\n",
        "        stds = np.std(cluster_points, axis=0)\n",
        "        cluster_stds.append(stds)\n",
        "\n",
        "    cluster_stds = np.vstack(cluster_stds)\n",
        "    return cluster_stds.round(4)"
      ],
      "metadata": {
        "id": "HWYO4U8B5gkB"
      },
      "execution_count": 15,
      "outputs": []
    },
    {
      "cell_type": "markdown",
      "source": [
        "## Modeling"
      ],
      "metadata": {
        "id": "5lo6wv6H4LOq"
      }
    },
    {
      "cell_type": "code",
      "source": [
        "num_target_classes = len(np.unique(y))\n",
        "\n",
        "print(f\"Number of target classes: {num_target_classes}\")"
      ],
      "metadata": {
        "colab": {
          "base_uri": "https://localhost:8080/"
        },
        "id": "-9aK11lU4OXb",
        "outputId": "c5eded59-1821-49db-dde0-eaacb76fd24f"
      },
      "execution_count": 16,
      "outputs": [
        {
          "output_type": "stream",
          "name": "stdout",
          "text": [
            "Number of target classes: 3\n"
          ]
        }
      ]
    },
    {
      "cell_type": "code",
      "source": [
        "class OutlierEliminator():\n",
        "    def __init__(self, x, num_classes, verb=False):\n",
        "        self.n_clusters = num_classes\n",
        "        self.x = x.copy()\n",
        "        self.is_outlier = None\n",
        "        self.verb = verb\n",
        "\n",
        "        if self.verb == True:\n",
        "            self.welcome()\n",
        "\n",
        "    def welcome(self):\n",
        "        print(\">> OutlierEliminator:\\n\")\n",
        "\n",
        "    def fit(self):\n",
        "        minPts = 2 * self.x.shape[1]\n",
        "        epsilon = find_eps(self.x, minPts).round(2)\n",
        "\n",
        "        if self.verb == True:\n",
        "            print(\">> Min Points: \", minPts)\n",
        "            print(f\">> Epsilon (elbow based on KNN(k={minPts})): \", epsilon)\n",
        "\n",
        "        clustering = DBSCAN(eps=epsilon, min_samples=minPts).fit(self.x)\n",
        "        is_outlier = clustering.labels_ == -1\n",
        "\n",
        "        if self.verb == True:\n",
        "            print(\">> Number of inliers: \", self.x[~is_outlier].shape[0])\n",
        "            print(\">> Number of outliers detected: \", self.x[is_outlier].shape[0])\n",
        "\n",
        "        self.is_outlier = is_outlier\n",
        "\n",
        "    def fit_purge(self):\n",
        "        self.fit()\n",
        "        self.x = self.x[~self.is_outlier]\n",
        "\n",
        "        if self.verb == True:\n",
        "            print(\">> Shape of cleaned data: \", self.x.shape)\n",
        "            print(\"\")\n",
        "\n",
        "        return self.x"
      ],
      "metadata": {
        "id": "bX9oImdj5nga"
      },
      "execution_count": 17,
      "outputs": []
    },
    {
      "cell_type": "code",
      "source": [
        "class NormalPipeline():\n",
        "    def __init__(self, x, num_classes, verb=False):\n",
        "        self.n_clusters = num_classes\n",
        "        self.x = x.copy()\n",
        "        self.verb = verb\n",
        "\n",
        "        self.centroids = None\n",
        "        self.clustering_labels = None\n",
        "\n",
        "        if self.verb == True:\n",
        "            self.welcome()\n",
        "\n",
        "    def welcome(self):\n",
        "        print(\"> NormalPipeline:\\n\")\n",
        "\n",
        "    def run(self):\n",
        "        kmeans = KMeans(n_clusters=self.n_clusters, random_state=RAND)\n",
        "        kmeans.fit(self.x)\n",
        "\n",
        "        self.centroids = kmeans.cluster_centers_\n",
        "        self.clustering_labels = kmeans.labels_\n",
        "\n",
        "        if self.verb == True:\n",
        "            print(\"> Shape of centroids: \", self.centroids.shape)\n",
        "            print(\"> Shape of clustering labels: \", self.clustering_labels.shape)\n",
        "\n",
        "    def purge_run(self):\n",
        "        self.x = OutlierEliminator(self.x, self.n_clusters, self.verb).fit_purge()\n",
        "        self.run()"
      ],
      "metadata": {
        "id": "EACV4eJ7_kDP"
      },
      "execution_count": 18,
      "outputs": []
    },
    {
      "cell_type": "code",
      "source": [
        "class AlteredPipeline(NormalPipeline):\n",
        "    def __init__(self, x, num_classes, verb=False):\n",
        "        super().__init__(x, num_classes, verb)\n",
        "        self.poisoned = False\n",
        "\n",
        "    def welcome(self):\n",
        "        print(\"> AlteredPipeline:\\n\")\n",
        "\n",
        "    def poison(self, norm_pipeline):\n",
        "        injection_centroid_wise = int(norm_pipeline.x.shape[0] / norm_pipeline.centroids.shape[0])\n",
        "        injection_std = calc_within_cluster_stds(norm_pipeline).mean().round(4)\n",
        "\n",
        "        if self.verb == True:\n",
        "            print(\"> injection_centroid_wise: \", injection_centroid_wise)\n",
        "            print(\"> injection_std: \", injection_std)\n",
        "            print(\"\")\n",
        "\n",
        "        if self.verb == True:\n",
        "            print(\"> Outlier detector for poisoning:\")\n",
        "\n",
        "        outlierElim = OutlierEliminator(self.x, self.n_clusters, self.verb)\n",
        "        outlierElim.fit()\n",
        "\n",
        "        x_outliers = self.x[outlierElim.is_outlier]\n",
        "\n",
        "        kmeans = KMeans(n_clusters=self.n_clusters, random_state=RAND)\n",
        "        kmeans.fit(x_outliers)\n",
        "\n",
        "        outlier_centroids = kmeans.cluster_centers_\n",
        "        x_poisoned = self.x.copy()\n",
        "\n",
        "        for i in range(self.n_clusters):\n",
        "            for j in range(injection_centroid_wise):\n",
        "                _injection = outlier_centroids[i] + np.random.normal(0, injection_std, x_poisoned.shape[1])\n",
        "                _injection = np.clip(_injection, 0, 1)\n",
        "                x_poisoned = np.concatenate((x_poisoned, _injection.reshape(1, -1)))\n",
        "\n",
        "        if self.verb == True:\n",
        "            print(\"> Shape of poisoned data: \", x_poisoned.shape)\n",
        "            print(\"\")\n",
        "\n",
        "        self.x = x_poisoned\n",
        "        self.poisoned = True\n",
        "\n",
        "    def run(self):\n",
        "        assert self.poisoned, \"> Pipeline not yet poisoned. Call .poison() first!\"\n",
        "        super().run()\n",
        "\n",
        "    def purge_run(self):\n",
        "        assert self.poisoned, \"> Pipeline not yet poisoned. Call .poison() first!\"\n",
        "        super().purge_run()"
      ],
      "metadata": {
        "id": "IL5HgAdKCP2U"
      },
      "execution_count": 19,
      "outputs": []
    },
    {
      "cell_type": "markdown",
      "source": [
        "## Normal pipeline\n",
        "\n",
        "In the normal pipeline, the epsilon ($\\epsilon$) parameter of DBSCAN is determined based on the dataset using an elbow-method. DBSCAN then applied to detect and purge outliers."
      ],
      "metadata": {
        "id": "__9O8WUzSwMI"
      }
    },
    {
      "cell_type": "code",
      "source": [
        "normPipelineNoPurge = NormalPipeline(X, num_target_classes, verb=True)\n",
        "normPipelineNoPurge.run()"
      ],
      "metadata": {
        "id": "fju4sQ26_v13",
        "colab": {
          "base_uri": "https://localhost:8080/"
        },
        "outputId": "ce2891ca-6b4a-44fa-ca38-f21dc901368f"
      },
      "execution_count": 20,
      "outputs": [
        {
          "output_type": "stream",
          "name": "stdout",
          "text": [
            "> NormalPipeline:\n",
            "\n",
            "> Shape of centroids:  (3, 4)\n",
            "> Shape of clustering labels:  (150,)\n"
          ]
        }
      ]
    },
    {
      "cell_type": "code",
      "source": [
        "normPipeline = NormalPipeline(X, num_target_classes, verb=True)\n",
        "normPipeline.purge_run()"
      ],
      "metadata": {
        "colab": {
          "base_uri": "https://localhost:8080/"
        },
        "outputId": "ed46f3a3-3fe5-4305-f428-481f5633a3bd",
        "id": "ci5ztAOOQvdw"
      },
      "execution_count": 21,
      "outputs": [
        {
          "output_type": "stream",
          "name": "stdout",
          "text": [
            "> NormalPipeline:\n",
            "\n",
            ">> OutlierEliminator:\n",
            "\n",
            ">> Min Points:  8\n",
            ">> Epsilon (elbow based on KNN(k=8)):  0.24\n",
            ">> Number of inliers:  147\n",
            ">> Number of outliers detected:  3\n",
            ">> Shape of cleaned data:  (147, 4)\n",
            "\n",
            "> Shape of centroids:  (3, 4)\n",
            "> Shape of clustering labels:  (147,)\n"
          ]
        }
      ]
    },
    {
      "cell_type": "markdown",
      "source": [
        "## Poisoned pipeline"
      ],
      "metadata": {
        "id": "brXydoE5CyBB"
      }
    },
    {
      "cell_type": "code",
      "source": [
        "poisPipeline = AlteredPipeline(X, num_target_classes, verb=True)\n",
        "poisPipeline.poison(normPipeline)\n",
        "poisPipeline.purge_run()"
      ],
      "metadata": {
        "colab": {
          "base_uri": "https://localhost:8080/"
        },
        "id": "xbHwaA7NCD2n",
        "outputId": "a6072016-03bf-412b-bf22-5a8db4a12eac"
      },
      "execution_count": 22,
      "outputs": [
        {
          "output_type": "stream",
          "name": "stdout",
          "text": [
            "> AlteredPipeline:\n",
            "\n",
            "> injection_centroid_wise:  49\n",
            "> injection_std:  0.0982\n",
            "\n",
            "> Outlier detector for poisoning:\n",
            ">> OutlierEliminator:\n",
            "\n",
            ">> Min Points:  8\n",
            ">> Epsilon (elbow based on KNN(k=8)):  0.24\n",
            ">> Number of inliers:  147\n",
            ">> Number of outliers detected:  3\n",
            "> Shape of poisoned data:  (297, 4)\n",
            "\n",
            ">> OutlierEliminator:\n",
            "\n",
            ">> Min Points:  8\n",
            ">> Epsilon (elbow based on KNN(k=8)):  0.23\n",
            ">> Number of inliers:  296\n",
            ">> Number of outliers detected:  1\n",
            ">> Shape of cleaned data:  (296, 4)\n",
            "\n",
            "> Shape of centroids:  (3, 4)\n",
            "> Shape of clustering labels:  (296,)\n"
          ]
        }
      ]
    },
    {
      "cell_type": "markdown",
      "source": [
        "## Evaluation & Comparison"
      ],
      "metadata": {
        "id": "YIl9tI6ZI4Uk"
      }
    },
    {
      "cell_type": "code",
      "source": [
        "plot_effect_of_pipeline(\n",
        "    pd.DataFrame(normPipelineNoPurge.x), normPipelineNoPurge.centroids, normPipelineNoPurge.clustering_labels,\n",
        "    pd.DataFrame(normPipeline.x), normPipeline.centroids, normPipeline.clustering_labels,\n",
        "    pd.DataFrame(poisPipeline.x), poisPipeline.centroids, poisPipeline.clustering_labels,\n",
        "    titles=[\"Clusterings by different pipelines\", \"Normal, without outlier removal\", \"Normal, with outlier purge\", \"Poisoned\"])"
      ],
      "metadata": {
        "colab": {
          "base_uri": "https://localhost:8080/",
          "height": 407
        },
        "id": "CLDxCm5hQb1V",
        "outputId": "6d6119d4-ce66-43f8-b2b5-6ffd3f2e4575"
      },
      "execution_count": 23,
      "outputs": [
        {
          "output_type": "display_data",
          "data": {
            "text/plain": [
              "<Figure size 1500x500 with 3 Axes>"
            ],
            "image/png": "[encoded data removed]"
          },
          "metadata": {}
        }
      ]
    },
    {
      "cell_type": "code",
      "source": [
        "print(\"Silhouette scores:\\n\")\n",
        "print(\"Normal clustering (without outlier removal):\\t\",\n",
        "      silhouette_score(normPipelineNoPurge.x, normPipelineNoPurge.clustering_labels).round(4))\n",
        "print(\"Normal clustering (with outlier removal):\\t\",\n",
        "      silhouette_score(normPipeline.x, normPipeline.clustering_labels).round(4))\n",
        "print(\"Poisoned clustering:\\t\\t\\t\\t\" ,\n",
        "      silhouette_score(poisPipeline.x, poisPipeline.clustering_labels).round(4))"
      ],
      "metadata": {
        "colab": {
          "base_uri": "https://localhost:8080/"
        },
        "id": "7eZtKzMiI58s",
        "outputId": "edc41953-bb1b-4ee3-d8e1-ae12bb19ac39"
      },
      "execution_count": 24,
      "outputs": [
        {
          "output_type": "stream",
          "name": "stdout",
          "text": [
            "Silhouette scores:\n",
            "\n",
            "Normal clustering (without outlier removal):\t 0.4829\n",
            "Normal clustering (with outlier removal):\t 0.5062\n",
            "Poisoned clustering:\t\t\t\t 0.5518\n"
          ]
        }
      ]
    },
    {
      "cell_type": "code",
      "source": [
        "print(\"Within-cluster standard deviations:\\n\")\n",
        "print(\"Normal clustering (without outlier removal):\\t\",\n",
        "      calc_within_cluster_stds(normPipelineNoPurge).mean().round(4))\n",
        "print(\"Normal clustering (with outlier removal):\\t\",\n",
        "      calc_within_cluster_stds(normPipeline).mean().round(4))\n",
        "print(\"Poisoned clustering:\\t\\t\\t\\t\",\n",
        "      calc_within_cluster_stds(poisPipeline).mean().round(4))"
      ],
      "metadata": {
        "colab": {
          "base_uri": "https://localhost:8080/"
        },
        "id": "38u_nAhB7bgc",
        "outputId": "c99744f7-de32-4585-a83c-5df1fec0304f"
      },
      "execution_count": 25,
      "outputs": [
        {
          "output_type": "stream",
          "name": "stdout",
          "text": [
            "Within-cluster standard deviations:\n",
            "\n",
            "Normal clustering (without outlier removal):\t 0.1029\n",
            "Normal clustering (with outlier removal):\t 0.0982\n",
            "Poisoned clustering:\t\t\t\t 0.1206\n"
          ]
        }
      ]
    }
  ]
}